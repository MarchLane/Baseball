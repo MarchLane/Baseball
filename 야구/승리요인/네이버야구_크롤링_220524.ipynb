{
 "cells": [
  {
   "cell_type": "code",
   "execution_count": 1,
   "id": "0a32815d",
   "metadata": {
    "ExecuteTime": {
     "end_time": "2022-05-25T08:59:07.993181Z",
     "start_time": "2022-05-25T08:59:01.795243Z"
    }
   },
   "outputs": [
    {
     "name": "stdout",
     "output_type": "stream",
     "text": [
      "The Zen of Python, by Tim Peters\n",
      "\n",
      "Beautiful is better than ugly.\n",
      "Explicit is better than implicit.\n",
      "Simple is better than complex.\n",
      "Complex is better than complicated.\n",
      "Flat is better than nested.\n",
      "Sparse is better than dense.\n",
      "Readability counts.\n",
      "Special cases aren't special enough to break the rules.\n",
      "Although practicality beats purity.\n",
      "Errors should never pass silently.\n",
      "Unless explicitly silenced.\n",
      "In the face of ambiguity, refuse the temptation to guess.\n",
      "There should be one-- and preferably only one --obvious way to do it.\n",
      "Although that way may not be obvious at first unless you're Dutch.\n",
      "Now is better than never.\n",
      "Although never is often better than *right* now.\n",
      "If the implementation is hard to explain, it's a bad idea.\n",
      "If the implementation is easy to explain, it may be a good idea.\n",
      "Namespaces are one honking great idea -- let's do more of those!\n"
     ]
    }
   ],
   "source": [
    "from this import d\n",
    "from bs4 import BeautifulSoup\n",
    "from selenium import webdriver\n",
    "import time\n",
    "import sys\n",
    "import os\n",
    "import requests\n",
    "from selenium.webdriver.common.keys import Keys\n",
    "import pandas as pd\n",
    "\n",
    "from selenium.webdriver.chrome.service import Service\n",
    "from webdriver_manager.chrome import ChromeDriverManager\n",
    "\n",
    "from selenium.webdriver.support import expected_conditions as EC\n",
    "\n",
    "## 네이버 야구\n",
    "url = 'https://sports.news.naver.com/kbaseball/schedule/index?date=20220524&month=04&year=2021&teamCode='\n",
    "\n",
    "# 크롬 드라이버 선언\n",
    "path = \"C:\\\\Program Files\\\\Google\\\\Chrome\\\\Application\\\\chromedriver_win32_100.0.4896.60\\\\chromedriver.exe\"\n",
    "driver = webdriver.Chrome(executable_path = path)\n",
    "driver.get(url)\n",
    "\n",
    "# 크롬창 크기\n",
    "driver.set_window_size(1600, 1000)\n",
    "time.sleep(2)\n",
    "\n",
    "## 경기결과 클릭\n",
    "driver.find_element_by_xpath('//*[@id=\"calendarWrap\"]/div[3]/table/tbody/tr[5]/td[3]/span/a[1]/img').click()\n",
    "\n"
   ]
  },
  {
   "cell_type": "code",
   "execution_count": 62,
   "id": "3358e209",
   "metadata": {
    "ExecuteTime": {
     "end_time": "2022-05-25T09:25:42.839050Z",
     "start_time": "2022-05-25T09:25:42.539786Z"
    }
   },
   "outputs": [
    {
     "data": {
      "text/html": [
       "<div>\n",
       "<style scoped>\n",
       "    .dataframe tbody tr th:only-of-type {\n",
       "        vertical-align: middle;\n",
       "    }\n",
       "\n",
       "    .dataframe tbody tr th {\n",
       "        vertical-align: top;\n",
       "    }\n",
       "\n",
       "    .dataframe thead th {\n",
       "        text-align: right;\n",
       "    }\n",
       "</style>\n",
       "<table border=\"1\" class=\"dataframe\">\n",
       "  <thead>\n",
       "    <tr style=\"text-align: right;\">\n",
       "      <th></th>\n",
       "      <th>G</th>\n",
       "      <th>R</th>\n",
       "      <th>H</th>\n",
       "      <th>E</th>\n",
       "      <th>BBed</th>\n",
       "      <th>HR</th>\n",
       "      <th>SB</th>\n",
       "      <th>SOed</th>\n",
       "      <th>DP</th>\n",
       "      <th>Red</th>\n",
       "      <th>Hed</th>\n",
       "      <th>ER</th>\n",
       "      <th>BB</th>\n",
       "      <th>SO</th>\n",
       "      <th>P</th>\n",
       "      <th>HA</th>\n",
       "      <th>WL</th>\n",
       "    </tr>\n",
       "  </thead>\n",
       "  <tbody>\n",
       "    <tr>\n",
       "      <th>0</th>\n",
       "      <td>04.03삼성</td>\n",
       "      <td>1</td>\n",
       "      <td>6</td>\n",
       "      <td>1</td>\n",
       "      <td>1</td>\n",
       "      <td>0</td>\n",
       "      <td>0</td>\n",
       "      <td>3</td>\n",
       "      <td>1</td>\n",
       "      <td>6</td>\n",
       "      <td>8</td>\n",
       "      <td>5</td>\n",
       "      <td>4</td>\n",
       "      <td>8</td>\n",
       "      <td>136</td>\n",
       "      <td>NaN</td>\n",
       "      <td>NaN</td>\n",
       "    </tr>\n",
       "  </tbody>\n",
       "</table>\n",
       "</div>"
      ],
      "text/plain": [
       "         G  R  H  E BBed HR SB SOed DP Red Hed ER BB SO    P   HA   WL\n",
       "0  04.03삼성  1  6  1    1  0  0    3  1   6   8  5  4  8  136  NaN  NaN"
      ]
     },
     "execution_count": 62,
     "metadata": {},
     "output_type": "execute_result"
    }
   ],
   "source": [
    "full_html = driver.page_source\n",
    "soup = BeautifulSoup(full_html, 'html.parser')\n",
    "\n",
    "## 홈팀\n",
    "#away = soup.find('div', 'ScoreBox_home__2uCuR').get_text()\n",
    "home = soup.find('div', 'ScoreBox_away__26sht').get_text()\n",
    "date = soup.find('p', 'MatchBox_date__1bJ9G').get_text()[:5]\n",
    "rheb = soup.find('div', 'ScoreBox_result__3atD0').find('tbody').find('tr').get_text()\n",
    "\n",
    "G_list = []; R_list = []; H_list = []; E_list = []; BBed_list = []\n",
    "G_list.append(date+away)\n",
    "R_list.append(rheb[0])\n",
    "H_list.append(rheb[1])\n",
    "E_list.append(rheb[2])\n",
    "BBed_list.append(rheb[3])\n",
    "\n",
    "vs = soup.find_all('div', 'TeamVS_score__2Iv0U')\n",
    "\n",
    "HR_list = []; SB_list = []; SOed_list = []; DP_list = []\n",
    "HR_list.append(vs[2].get_text())\n",
    "SB_list.append(vs[4].get_text())\n",
    "SOed_list.append(vs[6].get_text())\n",
    "DP_list.append(vs[8].get_text())\n",
    "\n",
    "## 투구결과 팀 선택\n",
    "driver.find_element_by_xpath('//*[@id=\"content\"]/div/div/section[2]/div[2]/div/div[5]/div[1]/div/button[1]').click()\n",
    "full_html = driver.page_source\n",
    "soup_p = BeautifulSoup(full_html, 'html.parser')\n",
    "pit = soup_p.find('table', 'PlayerRecord_record_table__19F6_ PlayerRecord_type_pitcher__1TYaz eg-flick-panel').find('tr', 'PlayerRecord_type_sum__bKbUH')\n",
    "pit_list = [a.get_text() for a in pit]\n",
    "\n",
    "Red_list = []; Hed_list = []; ER_list = []; BB_list = []; SO_list = []; P_list = []\n",
    "Red_list.append(pit_list[3])\n",
    "Hed_list.append(pit_list[2])\n",
    "ER_list.append(pit_list[4])\n",
    "BB_list.append(pit_list[5])\n",
    "SO_list.append(pit_list[6])\n",
    "P_list.append(pit_list[10])\n",
    "\n",
    "\n",
    "df_1 = pd.DataFrame(columns = ['G', 'R', 'H', 'E', 'BBed', 'HR', 'SB', 'SOed', 'DP', 'Red', 'Hed', 'ER',\n",
    "                              'BB', 'SO', 'P', 'HA', 'WL'])\n",
    "df_1['G'] = G_list\n",
    "df_1['R'] = R_list\n",
    "df_1['H'] = H_list\n",
    "df_1['E'] = E_list\n",
    "df_1['BBed'] = BBed_list\n",
    "df_1['HR'] = HR_list\n",
    "df_1['SB'] = SB_list\n",
    "df_1['SOed'] = SOed_list\n",
    "df_1['DP'] = DP_list\n",
    "df_1['Red'] = Red_list\n",
    "df_1['Hed'] = Hed_list\n",
    "df_1['ER'] = ER_list\n",
    "df_1['BB'] = BB_list\n",
    "df_1['SO'] = SO_list\n",
    "df_1['P'] = P_list\n",
    "\n",
    "df_1"
   ]
  },
  {
   "cell_type": "code",
   "execution_count": 51,
   "id": "e5635188",
   "metadata": {
    "ExecuteTime": {
     "end_time": "2022-05-25T09:21:51.228225Z",
     "start_time": "2022-05-25T09:21:51.151203Z"
    }
   },
   "outputs": [
    {
     "data": {
      "text/plain": [
       "<tr class=\"PlayerRecord_type_sum__bKbUH\"><th scope=\"row\">합계</th><td class=\"\"><span>8</span></td><td class=\"\"><span>8</span></td><td class=\"\"><span>6</span></td><td class=\"\"><span>5</span></td><td class=\"\"><span>4</span></td><td class=\"\"><span>8</span></td><td class=\"\"><span>0</span></td><td class=\"\"><span>36</span></td><td class=\"\"><span>32</span></td><td class=\"\"><span>136</span></td><td class=\"PlayerRecord_col_sub__2CLHm\"><span></span></td><td class=\"PlayerRecord_col_sub__2CLHm\"><span></span></td><td class=\"PlayerRecord_col_sub__2CLHm\"><span></span></td><td class=\"PlayerRecord_col_sub__2CLHm\"><span></span></td><td class=\"\"><span></span></td></tr>"
      ]
     },
     "execution_count": 51,
     "metadata": {},
     "output_type": "execute_result"
    }
   ],
   "source": [
    "full_html = driver.page_source\n",
    "soup_p = BeautifulSoup(full_html, 'html.parser')\n",
    "pit = soup_p.find('table', 'PlayerRecord_record_table__19F6_ PlayerRecord_type_pitcher__1TYaz eg-flick-panel').find('tr', 'PlayerRecord_type_sum__bKbUH')\n",
    "pit"
   ]
  },
  {
   "cell_type": "code",
   "execution_count": 57,
   "id": "1cd05a46",
   "metadata": {
    "ExecuteTime": {
     "end_time": "2022-05-25T09:23:16.448255Z",
     "start_time": "2022-05-25T09:23:16.435259Z"
    }
   },
   "outputs": [],
   "source": [
    "pit_list = [a.get_text() for a in pit]"
   ]
  },
  {
   "cell_type": "code",
   "execution_count": 58,
   "id": "25490a13",
   "metadata": {
    "ExecuteTime": {
     "end_time": "2022-05-25T09:23:18.519541Z",
     "start_time": "2022-05-25T09:23:18.506537Z"
    }
   },
   "outputs": [
    {
     "data": {
      "text/plain": [
       "['합계',\n",
       " '8',\n",
       " '8',\n",
       " '6',\n",
       " '5',\n",
       " '4',\n",
       " '8',\n",
       " '0',\n",
       " '36',\n",
       " '32',\n",
       " '136',\n",
       " '',\n",
       " '',\n",
       " '',\n",
       " '',\n",
       " '']"
      ]
     },
     "execution_count": 58,
     "metadata": {},
     "output_type": "execute_result"
    }
   ],
   "source": [
    "pit_list"
   ]
  },
  {
   "cell_type": "code",
   "execution_count": 55,
   "id": "3a31fbbc",
   "metadata": {
    "ExecuteTime": {
     "end_time": "2022-05-25T09:22:28.829565Z",
     "start_time": "2022-05-25T09:22:28.825571Z"
    }
   },
   "outputs": [
    {
     "name": "stdout",
     "output_type": "stream",
     "text": [
      "합계\n",
      "8\n",
      "8\n",
      "6\n",
      "5\n",
      "4\n",
      "8\n",
      "0\n",
      "36\n",
      "32\n",
      "136\n",
      "\n",
      "\n",
      "\n",
      "\n",
      "\n"
     ]
    }
   ],
   "source": [
    "te_list = []\n",
    "for a in pit :\n",
    "    print(a.get_text())\n",
    "    te_list.append(a.get_text())"
   ]
  },
  {
   "cell_type": "code",
   "execution_count": 56,
   "id": "44e657a6",
   "metadata": {
    "ExecuteTime": {
     "end_time": "2022-05-25T09:22:30.524798Z",
     "start_time": "2022-05-25T09:22:30.505787Z"
    }
   },
   "outputs": [
    {
     "data": {
      "text/plain": [
       "['합계',\n",
       " '8',\n",
       " '8',\n",
       " '6',\n",
       " '5',\n",
       " '4',\n",
       " '8',\n",
       " '0',\n",
       " '36',\n",
       " '32',\n",
       " '136',\n",
       " '',\n",
       " '',\n",
       " '',\n",
       " '',\n",
       " '']"
      ]
     },
     "execution_count": 56,
     "metadata": {},
     "output_type": "execute_result"
    }
   ],
   "source": [
    "te_list"
   ]
  },
  {
   "cell_type": "code",
   "execution_count": null,
   "id": "05dc286d",
   "metadata": {},
   "outputs": [],
   "source": []
  }
 ],
 "metadata": {
  "hide_input": false,
  "kernelspec": {
   "display_name": "Python 3",
   "language": "python",
   "name": "python3"
  },
  "language_info": {
   "codemirror_mode": {
    "name": "ipython",
    "version": 3
   },
   "file_extension": ".py",
   "mimetype": "text/x-python",
   "name": "python",
   "nbconvert_exporter": "python",
   "pygments_lexer": "ipython3",
   "version": "3.8.8"
  },
  "toc": {
   "base_numbering": 1,
   "nav_menu": {},
   "number_sections": true,
   "sideBar": true,
   "skip_h1_title": false,
   "title_cell": "Table of Contents",
   "title_sidebar": "Contents",
   "toc_cell": false,
   "toc_position": {},
   "toc_section_display": true,
   "toc_window_display": false
  },
  "varInspector": {
   "cols": {
    "lenName": 16,
    "lenType": 16,
    "lenVar": 40
   },
   "kernels_config": {
    "python": {
     "delete_cmd_postfix": "",
     "delete_cmd_prefix": "del ",
     "library": "var_list.py",
     "varRefreshCmd": "print(var_dic_list())"
    },
    "r": {
     "delete_cmd_postfix": ") ",
     "delete_cmd_prefix": "rm(",
     "library": "var_list.r",
     "varRefreshCmd": "cat(var_dic_list()) "
    }
   },
   "types_to_exclude": [
    "module",
    "function",
    "builtin_function_or_method",
    "instance",
    "_Feature"
   ],
   "window_display": false
  }
 },
 "nbformat": 4,
 "nbformat_minor": 5
}
